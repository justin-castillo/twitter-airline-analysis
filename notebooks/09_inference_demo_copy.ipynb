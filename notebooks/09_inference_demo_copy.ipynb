{
 "cells": [
  {
   "cell_type": "markdown",
   "id": "25b95776",
   "metadata": {},
   "source": [
    "# **Inference Demo**\n",
    "---\n",
    "\n",
    "The M8 evaluation proved the model’s accuracy; M9 turns that insight into a **usable product**.  \n",
    "By exposing inference through both a command‑line interface (CLI) and a FastAPI micro‑service we:\n",
    "\n",
    "1. **Unify Workflow** – Analysts can batch‑score tweets locally, while engineers hit an HTTP endpoint.\n",
    "2. **Decouple Deployment** – A lightweight Python wheel or Docker image can be shipped independently of notebooks.\n",
    "3. **Show Engineering Rigor** – Recruiters see production‑grade habits: argument parsing, type hints, and pydantic validation.\n",
    "\n",
    "## Notebook Overview \n",
    "1. [Imports & Paths](#1.-imports--paths)  \n",
    "2. [Writing The CLI Utility](#2.-writing-the-cli-utility)  \n",
    "3. [Building The FastAPI Micro-Service](#3.-building-the-fastapi-micro-service)  \n",
    "4. [Smoke-Testing The CLI](#4.-smoke-testing-the-cli)  \n",
    "5. [Smoke-Testing The API](#5.-smoke-testing-the-api)  \n",
    "6. [Persisting Usage Snippets](#6.-persisting-usage-snippets)  \n",
    "7. [Next Steps](#next-steps)"
   ]
  },
  {
   "cell_type": "markdown",
   "id": "c01207aa",
   "metadata": {},
   "source": [
    "# 1. Imports & paths\n",
    "---"
   ]
  },
  {
   "cell_type": "code",
   "execution_count": 1,
   "id": "c6f3f706",
   "metadata": {},
   "outputs": [],
   "source": [
    "# %% 0 — Imports & paths --------------------------------------------------------\n",
    "from __future__ import annotations\n",
    "\n",
    "from pathlib import Path\n",
    "\n",
    "ROOT_DIR   = Path.cwd().resolve().parents[0]\n",
    "MODELS_DIR = ROOT_DIR / \"models\"\n",
    "SRC_DIR    = ROOT_DIR / \"src\"\n",
    "SRC_DIR.mkdir(exist_ok=True)\n",
    "\n",
    "MODEL_PATH = MODELS_DIR / \"logreg_tfidf.joblib\"\n",
    "assert MODEL_PATH.exists(), \"Trained model missing; run M8 first.\""
   ]
  },
  {
   "cell_type": "markdown",
   "id": "f78f65c6",
   "metadata": {},
   "source": [
    "# 2. Writing The CLI Utility\n",
    "---\n",
    "\n",
    "The goal is a single‑file script (`src/predict.py`) that:\n",
    "\n",
    "* Loads the persisted TF‑IDF + LogReg pipeline once on startup (≈ 1 MB, < 100 ms).  \n",
    "* Accepts free‑form text as positional arguments.  \n",
    "* Prints the predicted label (`negative`, `neutral`, `positive`) with zero boilerplate.\n",
    "\n",
    "**Key design choices**\n",
    "\n",
    "| Choice | Benefit |\n",
    "| ------ | ------- |\n",
    "| `argparse` (standard library) | No external dependency; instantly familiar to reviewers. |\n",
    "| Eager model load at module import | Keeps per‑call latency to near‑zero. |\n",
    "| Pure function `predict(text)` | Simplifies reuse inside other Python apps or tests. |\n"
   ]
  },
  {
   "cell_type": "code",
   "execution_count": 2,
   "id": "7b9614f4",
   "metadata": {},
   "outputs": [],
   "source": [
    "# %% 1 — Write CLI script -------------------------------------------------------\n",
    "pred_path = (SRC_DIR / \"predict.py\").as_posix()"
   ]
  },
  {
   "cell_type": "code",
   "execution_count": 3,
   "id": "b5382406",
   "metadata": {},
   "outputs": [
    {
     "name": "stdout",
     "output_type": "stream",
     "text": [
      "Overwriting C:/Projects/twitter-airline-analysis/src/predict.py\n"
     ]
    }
   ],
   "source": [
    "%%writefile {pred_path}\n",
    "\"\"\"CLI inference utility for the airline‑sentiment model.\"\"\"\n",
    "from __future__ import annotations\n",
    "\n",
    "import argparse\n",
    "from pathlib import Path\n",
    "\n",
    "import joblib\n",
    "\n",
    "MODEL_PATH = Path(__file__).resolve().parents[1] / \"models\" / \"logreg_tfidf.joblib\"\n",
    "_PIPE      = joblib.load(MODEL_PATH)          # eager load; model ≈1 MB\n",
    "\n",
    "def predict(text: str) -> str:\n",
    "    \"\"\"Return the sentiment class for a single tweet.\"\"\"\n",
    "    return _PIPE.predict([text])[0]\n",
    "\n",
    "def main() -> None:                           # pragma: no cover\n",
    "    parser = argparse.ArgumentParser(description=\"Predict tweet sentiment.\")\n",
    "    parser.add_argument(\"text\", nargs=\"+\", help=\"Text to classify.\")\n",
    "    args = parser.parse_args()\n",
    "    print(predict(\" \".join(args.text)))\n",
    "\n",
    "if __name__ == \"__main__\":\n",
    "    main()\n"
   ]
  },
  {
   "cell_type": "markdown",
   "id": "6126b4ed",
   "metadata": {},
   "source": [
    "# 3. Building The FastAPI Micro‑Service\n",
    "---\n",
    "\n",
    "FastAPI offers automatic OpenAPI docs and pydantic validation:\n",
    "\n",
    "* **Schema Safety** – `InferenceRequest` and `InferenceResponse` enforce a stable contract.  \n",
    "* **Async‑Ready** – The service can scale under ASGI servers like Uvicorn or Gunicorn with Uvicorn workers.  \n",
    "* **Minimal Footprint** – The entire file is ~40 lines, yet covers validation, error handling, and type hints.\n",
    "\n",
    "> **Note:** Import latency is negligible; loading the model adds ~50 ms cold‑start on a laptop, acceptable for most serverless platforms.\n"
   ]
  },
  {
   "cell_type": "code",
   "execution_count": 4,
   "id": "04e04d86",
   "metadata": {},
   "outputs": [
    {
     "name": "stdout",
     "output_type": "stream",
     "text": [
      "Overwriting C:\\Projects\\twitter-airline-analysis\\src\\app.py\n"
     ]
    }
   ],
   "source": [
    "%%writefile {SRC_DIR / \"app.py\"}\n",
    "\"\"\"FastAPI wrapper exposing /predict endpoint.\"\"\"\n",
    "from __future__ import annotations\n",
    "\n",
    "from pathlib import Path\n",
    "from typing import Literal\n",
    "\n",
    "import joblib\n",
    "from fastapi import FastAPI, HTTPException\n",
    "from pydantic import BaseModel, Field\n",
    "\n",
    "MODEL_PATH = Path(__file__).resolve().parents[1] / \"models\" / \"logreg_tfidf.joblib\"\n",
    "PIPE       = joblib.load(MODEL_PATH)\n",
    "\n",
    "\n",
    "class InferenceRequest(BaseModel):\n",
    "    text: str = Field(..., example=\"My flight was delayed 3 hours\")\n",
    "\n",
    "\n",
    "class InferenceResponse(BaseModel):\n",
    "    label: Literal[\"negative\", \"neutral\", \"positive\"]\n",
    "\n",
    "\n",
    "app = FastAPI(\n",
    "    title=\"Airline Sentiment Inference API\",\n",
    "    version=\"0.1.0\",\n",
    "    summary=\"Lightweight TF‑IDF + LogReg sentiment classifier\",\n",
    ")\n",
    "\n",
    "\n",
    "@app.post(\"/predict\", response_model=InferenceResponse)\n",
    "def predict(req: InferenceRequest) -> InferenceResponse:  # noqa: D401\n",
    "    \"\"\"Return the sentiment label for the supplied text.\"\"\"\n",
    "    if not req.text.strip():\n",
    "        raise HTTPException(status_code=400, detail=\"Text must be non‑empty.\")\n",
    "    label = PIPE.predict([req.text])[0]\n",
    "    return InferenceResponse(label=label)"
   ]
  },
  {
   "cell_type": "markdown",
   "id": "a9e1e8a2",
   "metadata": {},
   "source": [
    "# 4. Smoke‑Testing The CLI\n",
    "---\n",
    "\n",
    "We invoke the script via `subprocess.run` to ensure:\n",
    "\n",
    "* The module resolves via `python -m src.predict`.  \n",
    "* Prediction executes end‑to‑end without touching notebook globals.  \n",
    "* Exit code is 0 and stdout contains a valid class label.\n",
    "\n",
    "This test guards against path mishaps (e.g., missing `models/` folder) before CI.\n"
   ]
  },
  {
   "cell_type": "code",
   "execution_count": 5,
   "id": "ed932380",
   "metadata": {},
   "outputs": [
    {
     "name": "stdout",
     "output_type": "stream",
     "text": [
      "CLI prediction → negative\n"
     ]
    }
   ],
   "source": [
    "# %% 3 — Smoke‑test CLI ---------------------------------------------------------\n",
    "import subprocess   # noqa: D401\n",
    "\n",
    "example = \"Loved the crew but the flight was late.\"\n",
    "result  = subprocess.run(\n",
    "    [\"python\", SRC_DIR / \"predict.py\", example],\n",
    "    capture_output=True,\n",
    "    text=True,\n",
    "    check=True,\n",
    ").stdout.strip()\n",
    "\n",
    "print(\"CLI prediction →\", result)"
   ]
  },
  {
   "cell_type": "markdown",
   "id": "97df438d",
   "metadata": {},
   "source": [
    "# 5. Smoke‑Testing The API\n",
    "---\n",
    "\n",
    "Two complementary strategies were used:\n",
    "\n",
    "1. **Uvicorn Thread** – Spins up the ASGI server in‑process, hits `/predict` over HTTP, and checks the JSON payload.  \n",
    "2. **FastAPI TestClient** *(optional alternative)* – Runs in‑process without networking, ideal for unit tests.\n",
    "\n",
    "Both confirm that pydantic validation, routing, and the model itself cooperate seamlessly.\n"
   ]
  },
  {
   "cell_type": "code",
   "execution_count": 6,
   "id": "2ded2386",
   "metadata": {},
   "outputs": [
    {
     "name": "stdout",
     "output_type": "stream",
     "text": [
      "API response → {'label': 'positive'}\n"
     ]
    }
   ],
   "source": [
    "# %% 4 — Smoke‑test API ---------------------------------------------------------\n",
    "import sys\n",
    "import threading\n",
    "import time\n",
    "from pathlib import Path\n",
    "\n",
    "import requests\n",
    "import uvicorn\n",
    "\n",
    "ROOT_DIR = Path.cwd().resolve().parents[0]\n",
    "sys.path.insert(0, str(ROOT_DIR))             # make `import src.app` resolvable\n",
    "\n",
    "\n",
    "def _run_app() -> None:\n",
    "    uvicorn.run(\n",
    "        \"src.app:app\",\n",
    "        host=\"127.0.0.1\",\n",
    "        port=8000,\n",
    "        log_level=\"warning\",\n",
    "        reload=False,\n",
    "    )\n",
    "\n",
    "\n",
    "thread = threading.Thread(target=_run_app, daemon=True)\n",
    "thread.start()\n",
    "time.sleep(2)                                 # allow cold‑start\n",
    "\n",
    "payload = {\"text\": \"This is the best flight ever!\"}\n",
    "resp    = requests.post(\"http://127.0.0.1:8000/predict\", json=payload, timeout=5)\n",
    "print(\"API response →\", resp.json())"
   ]
  },
  {
   "cell_type": "markdown",
   "id": "cd8480c8",
   "metadata": {},
   "source": [
    "# 6. Persisting Usage Snippets\n",
    "---\n",
    "\n",
    "The `docs/inference_usage.md` helper lowers the barrier for new users:\n",
    "\n",
    "* **Copy‑Paste Ready CLI** – One‑liner to classify a tweet.  \n",
    "* **Curl Example** – Demonstrates the JSON contract for the REST endpoint.  \n",
    "\n",
    "Keeping quick‑start commands under `docs/` surfaces polish and documentation discipline—details hiring managers notice.\n"
   ]
  },
  {
   "cell_type": "code",
   "execution_count": 7,
   "id": "30ce8272",
   "metadata": {},
   "outputs": [
    {
     "name": "stdout",
     "output_type": "stream",
     "text": [
      "✓ Wrote docs\\inference_usage.md\n"
     ]
    }
   ],
   "source": [
    "# %% 5 — Persist helper README snippet -----------------------------------------\n",
    "from textwrap import dedent\n",
    "\n",
    "DOCS_DIR = ROOT_DIR / \"docs\"\n",
    "DOCS_DIR.mkdir(exist_ok=True)\n",
    "\n",
    "snippet = dedent(\n",
    "    \"\"\"\n",
    "    ### Inference Usage\n",
    "\n",
    "    ```bash\n",
    "    # CLI\n",
    "    python -m src.predict \"Flight delayed again :(\"   # ➜ negative\n",
    "    ```\n",
    "\n",
    "    ```bash\n",
    "    # API (local dev)\n",
    "    uvicorn src.app:app --host 0.0.0.0 --port 8000\n",
    "    # then:\n",
    "    curl -X POST http://127.0.0.1:8000/predict \\\\\n",
    "        -H \"Content-Type: application/json\" \\\\\n",
    "        -d '{ \"text\": \"Great service!\" }'\n",
    "    # ➜ {\"label\":\"positive\"}\n",
    "    ```\n",
    "    \"\"\"\n",
    ").strip() + \"\\n\"\n",
    "\n",
    "filepath = DOCS_DIR / \"inference_usage.md\"\n",
    "filepath.write_text(snippet, encoding=\"utf-8\")\n",
    "print(f\"✓ Wrote {filepath.relative_to(ROOT_DIR)}\")"
   ]
  },
  {
   "cell_type": "markdown",
   "id": "03f6fa0e",
   "metadata": {},
   "source": [
    "# **Next Steps**\n",
    "---\n",
    "\n",
    "* **Dockerise** – Add a multi‑stage Dockerfile (`python-slim` base) for parity across environments.  \n",
    "* **CI Pipeline** – Extend GitHub Actions to build the image, run the TestClient suite, and push to GHCR.  \n",
    "* **Versioned Releases** – Tag `v1.0.0` once Docker and docs are green; attach artefacts to the release page.  \n",
    "\n",
    "These steps will comprise **M10 – Release**, completing the end‑to‑end, recruiter‑ready workflow."
   ]
  }
 ],
 "metadata": {
  "kernelspec": {
   "display_name": "twitter-sentiment-env",
   "language": "python",
   "name": "python3"
  },
  "language_info": {
   "codemirror_mode": {
    "name": "ipython",
    "version": 3
   },
   "file_extension": ".py",
   "mimetype": "text/x-python",
   "name": "python",
   "nbconvert_exporter": "python",
   "pygments_lexer": "ipython3",
   "version": "3.11.9"
  }
 },
 "nbformat": 4,
 "nbformat_minor": 5
}
