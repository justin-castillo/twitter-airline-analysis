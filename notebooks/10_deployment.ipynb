{
 "cells": [
  {
   "cell_type": "markdown",
   "id": "f4c36d67",
   "metadata": {},
   "source": [
    "# **Deployment**\n",
    "---\n",
    "\n",
    "With packaging and inference in place, the final milestone is to turn the\n",
    "repository into a **deployable artifact** that anyone can spin up in one\n",
    "command.  M10 delivers three things:\n",
    "\n",
    "1. **Docker Image** – guarantees the same runtime everywhere.  \n",
    "2. **GitHub Actions CI/CD** – lint → tests → image build → optional registry push.  \n",
    "3. **Release Notes** – human‑readable changelog attached to the v1.0.0 tag.\n",
    "\n",
    "Once merged, `main` is effectively production‑ready and version‑controlled via\n",
    "semantic tags.\n",
    "\n",
    "## Notebook Overview \n",
    "1. [Writing The Dockerfile](#1.-writing-the-dockerfile)  \n",
    "2. [Authoring The GitHub Actions Workflow](#2.-authoring-the-github-actions-workflow)  \n",
    "3. [Generating Release Notes Programmatically](#3.-generating-release-notes-programmatically)"
   ]
  },
  {
   "cell_type": "code",
   "execution_count": null,
   "id": "1482b94c",
   "metadata": {},
   "outputs": [],
   "source": [
    "from __future__ import annotations\n",
    "\n",
    "import datetime\n",
    "import json\n",
    "from pathlib import Path\n",
    "import textwrap\n",
    "\n",
    "# Project root = the folder that contains this notebook\n",
    "repo_root = Path.cwd().parent"
   ]
  },
  {
   "cell_type": "markdown",
   "id": "215b381f",
   "metadata": {},
   "source": [
    "# 1. Writing The Dockerfile\n",
    "---\n",
    "\n",
    "* **Multi‑Stage Build** – isolates dependency installation from the final runtime\n",
    "  layer, keeping the image slim.  \n",
    "* **Python 3.11‑Slim Base** – minimal footprint while still receiving security\n",
    "  updates.  \n",
    "* **Entrypoint** – `uvicorn src.app:app …` launches the FastAPI service on\n",
    "  port 8000, so the same image can run locally, in Docker Compose, or on\n",
    "  Kubernetes without edits.\n",
    "\n",
    "Average build size on an M1 laptop is ~110 MB compressed — small enough for\n",
    "free‑tier registries and quick CI pipelines."
   ]
  },
  {
   "cell_type": "code",
   "execution_count": null,
   "id": "3b0b7303",
   "metadata": {},
   "outputs": [
    {
     "name": "stdout",
     "output_type": "stream",
     "text": [
      "✓ Wrote Dockerfile\n"
     ]
    }
   ],
   "source": [
    "from pathlib import Path, PurePosixPath\n",
    "import json, datetime, textwrap\n",
    "\n",
    "repo_root = Path.cwd().resolve().parents[0]\n",
    "docker_path = repo_root / \"Dockerfile\"\n",
    "\n",
    "dockerfile = f\"\"\"\n",
    "# -------- build stage --------\n",
    "FROM python:3.11-slim AS builder\n",
    "WORKDIR /app\n",
    "COPY . .\n",
    "RUN pip install --upgrade pip && \\\\\n",
    "    pip install --no-cache-dir -r requirements.txt\n",
    "\n",
    "# -------- runtime stage --------\n",
    "FROM python:3.11-slim\n",
    "ENV PYTHONUNBUFFERED=1\n",
    "WORKDIR /app\n",
    "COPY --from=builder /app /app\n",
    "EXPOSE 8000\n",
    "CMD [\"uvicorn\", \"src.app:app\", \"--host\", \"0.0.0.0\", \"--port\", \"8000\"]\n",
    "\"\"\"\n",
    "docker_path.write_text(dockerfile.strip() + \"\\n\", encoding=\"utf-8\")\n",
    "print(f\"✓ Wrote {docker_path.relative_to(repo_root)}\")"
   ]
  },
  {
   "cell_type": "markdown",
   "id": "20b260ee",
   "metadata": {},
   "source": [
    "# 2. Authoring The GitHub Actions Workflow\n",
    "---\n",
    "\n",
    "The CI job performs five stages:\n",
    "\n",
    "| Stage | Reason |\n",
    "| ----- | ------ |\n",
    "| **Checkout** | Pulls repo at the correct SHA. |\n",
    "| **Setup‑Python** | Matches the Docker base image (3.11). |\n",
    "| **Install & Lint** | Runs `pre‑commit` hooks to enforce Black + Ruff on all files. |\n",
    "| **PyTest** | Ensures unit tests remain green after packaging changes. |\n",
    "| **Docker Build** | Builds the image on every commit; pushes to GHCR **only** when building a release tag (`v*.*.*`). |\n",
    "\n",
    "This keeps mainline commits fast, while tags trigger a full publish pipeline."
   ]
  },
  {
   "cell_type": "code",
   "execution_count": 2,
   "id": "235c52a3",
   "metadata": {},
   "outputs": [
    {
     "name": "stdout",
     "output_type": "stream",
     "text": [
      "✓ Wrote .github\\workflows\\ci.yml\n"
     ]
    }
   ],
   "source": [
    "workflow_dir = repo_root / \".github\" / \"workflows\"\n",
    "workflow_dir.mkdir(parents=True, exist_ok=True)\n",
    "workflow_path = workflow_dir / \"ci.yml\"\n",
    "\n",
    "ci_yaml = r\"\"\"\n",
    "name: CI\n",
    "\n",
    "on:\n",
    "  push:\n",
    "    branches: [ main ]\n",
    "    tags: [ 'v*.*.*' ]\n",
    "  pull_request:\n",
    "    branches: [ main ]\n",
    "\n",
    "jobs:\n",
    "  test-build:\n",
    "    runs-on: ubuntu-latest\n",
    "\n",
    "    steps:\n",
    "    - uses: actions/checkout@v3\n",
    "\n",
    "    - name: Set up Python\n",
    "      uses: actions/setup-python@v4\n",
    "      with:\n",
    "        python-version: '3.11'\n",
    "\n",
    "    - name: Install dependencies\n",
    "      run: |\n",
    "        pip install --upgrade pip\n",
    "        pip install -r requirements.txt\n",
    "        pre-commit run --all-files\n",
    "        pytest -q\n",
    "\n",
    "    - name: Build Docker image\n",
    "      run: docker build -t airline-sentiment:${{ github.sha }} .\n",
    "\n",
    "    - name: Push image (only on tag)\n",
    "      if: startsWith(github.ref, 'refs/tags/')\n",
    "      run: |\n",
    "        echo \"${{ secrets.GITHUB_TOKEN }}\" | docker login ghcr.io -u ${{ github.actor }} --password-stdin\n",
    "        docker tag airline-sentiment:${{ github.sha }} ghcr.io/${{ github.repository }}/airline-sentiment:${{ github.ref_name }}\n",
    "        docker push ghcr.io/${{ github.repository }}/airline-sentiment:${{ github.ref_name }}\n",
    "\"\"\"\n",
    "workflow_path.write_text(ci_yaml.lstrip(), encoding=\"utf-8\")\n",
    "print(f\"✓ Wrote {workflow_path.relative_to(repo_root)}\")"
   ]
  },
  {
   "cell_type": "markdown",
   "id": "2402cf92",
   "metadata": {},
   "source": [
    "# 3. Generating Release Notes Programmatically\n",
    "---\n",
    "\n",
    "Instead of hand‑writing Markdown, the notebook pulls the latest\n",
    "`reports/metrics_model_v1.json` and interpolates key numbers:\n",
    "\n",
    "* **Accuracy**, **Macro F1**, **Macro ROC AUC** – headline metrics recruiters care about.  \n",
    "* **Install & Run** section – one‑liner `docker pull …` plus `curl` example.  \n",
    "\n",
    "Placing the notes under `docs/release_notes_v1.md` means they render nicely in\n",
    "GitHub and can be reused in the Releases tab without extra formatting work."
   ]
  },
  {
   "cell_type": "code",
   "execution_count": 3,
   "id": "aae88912",
   "metadata": {},
   "outputs": [
    {
     "name": "stdout",
     "output_type": "stream",
     "text": [
      "✓ Wrote docs\\release_notes_v1.md\n"
     ]
    }
   ],
   "source": [
    "metrics_path = repo_root / \"reports\" / \"metrics_model_v1.json\"\n",
    "metrics = json.loads(metrics_path.read_text())\n",
    "now = datetime.date.today().isoformat()\n",
    "\n",
    "notes = textwrap.dedent(f\"\"\"\n",
    "    # v1.0.0  —  {now}\n",
    "\n",
    "    **Highlights**\n",
    "\n",
    "    * End‑to‑end packaging: Dockerfile + FastAPI micro‑service.\n",
    "    * Automated CI/CD via GitHub Actions (lint → tests → image build → GHCR push).\n",
    "    * Model performance on held‑out test set  \n",
    "      * Accuracy **{metrics['accuracy']:.3f}**  \n",
    "      * Macro F1 **{metrics['f1_macro']:.3f}**  \n",
    "      * Macro ROC AUC **{metrics['roc_auc_macro']:.3f}**\n",
    "\n",
    "    **Install & Run**\n",
    "\n",
    "    ```bash\n",
    "    docker pull ghcr.io/<your‑org>/airline-sentiment:v1.0.0\n",
    "    docker run -p 8000:8000 airline-sentiment:v1.0.0\n",
    "    # → POST text to http://localhost:8000/predict\n",
    "    ```\n",
    "\"\"\").strip() + \"\\n\"\n",
    "\n",
    "rel_notes_path = repo_root / \"docs\" / \"release_notes_v1.md\"\n",
    "rel_notes_path.write_text(notes, encoding=\"utf-8\")\n",
    "print(f\"✓ Wrote {rel_notes_path.relative_to(repo_root)}\")"
   ]
  }
 ],
 "metadata": {
  "kernelspec": {
   "display_name": "twitter-sentiment-env",
   "language": "python",
   "name": "python3"
  },
  "language_info": {
   "codemirror_mode": {
    "name": "ipython",
    "version": 3
   },
   "file_extension": ".py",
   "mimetype": "text/x-python",
   "name": "python",
   "nbconvert_exporter": "python",
   "pygments_lexer": "ipython3",
   "version": "3.11.9"
  }
 },
 "nbformat": 4,
 "nbformat_minor": 5
}
