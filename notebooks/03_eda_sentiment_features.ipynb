{
 "cells": [
  {
   "cell_type": "markdown",
   "id": "54352065",
   "metadata": {},
   "source": [
    "# 03 · Exploratory Data Analysis – Airline Tweet Sentiment\n",
    "\n",
    "> Goal: understand distributions, class balance, and potential text‑based\n",
    "> features that will inform feature‑engineering and model selection for M4."
   ]
  },
  {
   "cell_type": "markdown",
   "id": "b4b02e85",
   "metadata": {},
   "source": [
    "## 1  Data & Imports\n",
    "\n",
    "* Load cleaned dataset `data/processed/tweets.parquet`  \n",
    "* Inspect basic shape and column names  \n",
    "* Verify no unexpected nulls after preprocessing"
   ]
  },
  {
   "cell_type": "markdown",
   "id": "9ddf59c6",
   "metadata": {},
   "source": [
    "## 2  Class Balance\n",
    "\n",
    "* **Bar chart** – absolute counts of `airline_sentiment`  \n",
    "* **Pie or bar** – class proportions (%, to show imbalance)  \n",
    "* Note class‑weight implications for supervised models"
   ]
  },
  {
   "cell_type": "markdown",
   "id": "b30c816c",
   "metadata": {},
   "source": [
    "## 3  Tweet Length Distributions\n",
    "\n",
    "* Histogram – character length (`char_len`)  \n",
    "* Histogram – word count (`word_count`)  \n",
    "* Box‑and‑whisker to spot outliers  \n",
    "* Summarize median / IQR – useful for padding/truncation decisions"
   ]
  },
  {
   "cell_type": "markdown",
   "id": "084f0a25",
   "metadata": {},
   "source": [
    "## 4  Negative‑Reason Breakdown\n",
    "\n",
    "* Filter `airline_sentiment == \"negative\"`  \n",
    "* Horizontal bar chart – frequency of each `negativereason`  \n",
    "* Identify dominant complaint categories; merge sparse classes if needed"
   ]
  },
  {
   "cell_type": "markdown",
   "id": "850e7a00",
   "metadata": {},
   "source": [
    "## 5  Sentiment by Airline\n",
    "\n",
    "* Heatmap – counts or % of (airline × sentiment)  \n",
    "* Which airlines have higher positive share?  \n",
    "* Potential for model feature “airline” or airline‑specific models"
   ]
  },
  {
   "cell_type": "markdown",
   "id": "14b46d4c",
   "metadata": {},
   "source": [
    "## 6  Top TF‑IDF Terms (Quick Peek)\n",
    "\n",
    "* (Optional) Compute TF‑IDF per sentiment and list top 10 terms  \n",
    "* Useful for qualitative feature sanity check"
   ]
  },
  {
   "cell_type": "markdown",
   "id": "09b31894",
   "metadata": {},
   "source": [
    "## 7  Key Insights\n",
    "\n",
    "* Bullet list of 4‑5 actionable findings, e.g.  \n",
    "  - Dataset is **63 % negative**, **21 % neutral**, **16 % positive** → apply stratified sampling or class weights  \n",
    "  - Typical tweet length ≈ 100 characters / 15 words – safe for standard tokenization window  \n",
    "  - “Customer Service Issue” & “Late Flight” dominate negative reasons – possible hierarchical label grouping  \n",
    "  - **United** and **Delta** receive highest negative volume; **Southwest** skews more positive  \n",
    "  - Top TF‑IDF terms confirm airline‑specific jargon (e.g. *bag*, *gate*, *delayed*)  "
   ]
  },
  {
   "cell_type": "markdown",
   "id": "8793db7e",
   "metadata": {},
   "source": [
    "## 8  Next Steps\n",
    "\n",
    "* Finalize feature list (text, metadata)  \n",
    "* Decide resampling / weighting strategy  \n",
    "* Build baseline model notebook (`04_baseline_model.ipynb`)  \n",
    "* Integrate findings into README & project roadmap"
   ]
  }
 ],
 "metadata": {
  "kernelspec": {
   "display_name": "twitter-airline-env",
   "language": "python",
   "name": "python3"
  },
  "language_info": {
   "codemirror_mode": {
    "name": "ipython",
    "version": 3
   },
   "file_extension": ".py",
   "mimetype": "text/x-python",
   "name": "python",
   "nbconvert_exporter": "python",
   "pygments_lexer": "ipython3",
   "version": "3.11.9"
  }
 },
 "nbformat": 4,
 "nbformat_minor": 5
}
