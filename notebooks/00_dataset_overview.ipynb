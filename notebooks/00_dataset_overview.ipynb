{
 "cells": [
  {
   "cell_type": "markdown",
   "id": "ad013868",
   "metadata": {},
   "source": [
    "# 00 · Dataset Overview\n",
    "\n",
    "This notebook provides an initial examination of the **Twitter US Airline Sentiment** dataset (≈ 14 600 tweets, February 2015) and generates two baseline visualizations that will inform subsequent data‑preparation and modeling work."
   ]
  },
  {
   "cell_type": "markdown",
   "id": "df452bfd",
   "metadata": {},
   "source": [
    "## Objectives\n",
    "\n",
    "1. Load the raw CSV file into a pandas DataFrame.  \n",
    "2. Summarize overall sentiment distribution.  \n",
    "3. Compare sentiment across individual airlines.  \n",
    "4. Record key observations to guide the modeling plan."
   ]
  },
  {
   "cell_type": "code",
   "execution_count": 5,
   "id": "ef9cd605",
   "metadata": {},
   "outputs": [],
   "source": [
    "# core libraries\n",
    "import pathlib\n",
    "\n",
    "import pandas as pd\n",
    "import matplotlib.pyplot as plt\n",
    "import seaborn as sns\n",
    "\n",
    "DATA_DIR = pathlib.Path(\"../data/raw\")  # relative to notebooks/\n",
    "CSV_PATH = DATA_DIR / \"Tweets.csv\""
   ]
  },
  {
   "cell_type": "markdown",
   "id": "7681c696",
   "metadata": {},
   "source": [
    "## 1  Load Data"
   ]
  },
  {
   "cell_type": "code",
   "execution_count": 2,
   "id": "867a5fe0",
   "metadata": {},
   "outputs": [
    {
     "data": {
      "text/html": [
       "<div>\n",
       "<style scoped>\n",
       "    .dataframe tbody tr th:only-of-type {\n",
       "        vertical-align: middle;\n",
       "    }\n",
       "\n",
       "    .dataframe tbody tr th {\n",
       "        vertical-align: top;\n",
       "    }\n",
       "\n",
       "    .dataframe thead th {\n",
       "        text-align: right;\n",
       "    }\n",
       "</style>\n",
       "<table border=\"1\" class=\"dataframe\">\n",
       "  <thead>\n",
       "    <tr style=\"text-align: right;\">\n",
       "      <th></th>\n",
       "      <th>tweet_id</th>\n",
       "      <th>airline_sentiment</th>\n",
       "      <th>airline_sentiment_confidence</th>\n",
       "      <th>negativereason</th>\n",
       "      <th>negativereason_confidence</th>\n",
       "      <th>airline</th>\n",
       "      <th>airline_sentiment_gold</th>\n",
       "      <th>name</th>\n",
       "      <th>negativereason_gold</th>\n",
       "      <th>retweet_count</th>\n",
       "      <th>text</th>\n",
       "      <th>tweet_coord</th>\n",
       "      <th>tweet_created</th>\n",
       "      <th>tweet_location</th>\n",
       "      <th>user_timezone</th>\n",
       "    </tr>\n",
       "  </thead>\n",
       "  <tbody>\n",
       "    <tr>\n",
       "      <th>0</th>\n",
       "      <td>570306133677760513</td>\n",
       "      <td>neutral</td>\n",
       "      <td>1.0000</td>\n",
       "      <td>NaN</td>\n",
       "      <td>NaN</td>\n",
       "      <td>Virgin America</td>\n",
       "      <td>NaN</td>\n",
       "      <td>cairdin</td>\n",
       "      <td>NaN</td>\n",
       "      <td>0</td>\n",
       "      <td>@VirginAmerica What @dhepburn said.</td>\n",
       "      <td>NaN</td>\n",
       "      <td>2015-02-24 11:35:52 -0800</td>\n",
       "      <td>NaN</td>\n",
       "      <td>Eastern Time (US &amp; Canada)</td>\n",
       "    </tr>\n",
       "    <tr>\n",
       "      <th>1</th>\n",
       "      <td>570301130888122368</td>\n",
       "      <td>positive</td>\n",
       "      <td>0.3486</td>\n",
       "      <td>NaN</td>\n",
       "      <td>0.0000</td>\n",
       "      <td>Virgin America</td>\n",
       "      <td>NaN</td>\n",
       "      <td>jnardino</td>\n",
       "      <td>NaN</td>\n",
       "      <td>0</td>\n",
       "      <td>@VirginAmerica plus you've added commercials t...</td>\n",
       "      <td>NaN</td>\n",
       "      <td>2015-02-24 11:15:59 -0800</td>\n",
       "      <td>NaN</td>\n",
       "      <td>Pacific Time (US &amp; Canada)</td>\n",
       "    </tr>\n",
       "    <tr>\n",
       "      <th>2</th>\n",
       "      <td>570301083672813571</td>\n",
       "      <td>neutral</td>\n",
       "      <td>0.6837</td>\n",
       "      <td>NaN</td>\n",
       "      <td>NaN</td>\n",
       "      <td>Virgin America</td>\n",
       "      <td>NaN</td>\n",
       "      <td>yvonnalynn</td>\n",
       "      <td>NaN</td>\n",
       "      <td>0</td>\n",
       "      <td>@VirginAmerica I didn't today... Must mean I n...</td>\n",
       "      <td>NaN</td>\n",
       "      <td>2015-02-24 11:15:48 -0800</td>\n",
       "      <td>Lets Play</td>\n",
       "      <td>Central Time (US &amp; Canada)</td>\n",
       "    </tr>\n",
       "    <tr>\n",
       "      <th>3</th>\n",
       "      <td>570301031407624196</td>\n",
       "      <td>negative</td>\n",
       "      <td>1.0000</td>\n",
       "      <td>Bad Flight</td>\n",
       "      <td>0.7033</td>\n",
       "      <td>Virgin America</td>\n",
       "      <td>NaN</td>\n",
       "      <td>jnardino</td>\n",
       "      <td>NaN</td>\n",
       "      <td>0</td>\n",
       "      <td>@VirginAmerica it's really aggressive to blast...</td>\n",
       "      <td>NaN</td>\n",
       "      <td>2015-02-24 11:15:36 -0800</td>\n",
       "      <td>NaN</td>\n",
       "      <td>Pacific Time (US &amp; Canada)</td>\n",
       "    </tr>\n",
       "    <tr>\n",
       "      <th>4</th>\n",
       "      <td>570300817074462722</td>\n",
       "      <td>negative</td>\n",
       "      <td>1.0000</td>\n",
       "      <td>Can't Tell</td>\n",
       "      <td>1.0000</td>\n",
       "      <td>Virgin America</td>\n",
       "      <td>NaN</td>\n",
       "      <td>jnardino</td>\n",
       "      <td>NaN</td>\n",
       "      <td>0</td>\n",
       "      <td>@VirginAmerica and it's a really big bad thing...</td>\n",
       "      <td>NaN</td>\n",
       "      <td>2015-02-24 11:14:45 -0800</td>\n",
       "      <td>NaN</td>\n",
       "      <td>Pacific Time (US &amp; Canada)</td>\n",
       "    </tr>\n",
       "  </tbody>\n",
       "</table>\n",
       "</div>"
      ],
      "text/plain": [
       "             tweet_id airline_sentiment  airline_sentiment_confidence  \\\n",
       "0  570306133677760513           neutral                        1.0000   \n",
       "1  570301130888122368          positive                        0.3486   \n",
       "2  570301083672813571           neutral                        0.6837   \n",
       "3  570301031407624196          negative                        1.0000   \n",
       "4  570300817074462722          negative                        1.0000   \n",
       "\n",
       "  negativereason  negativereason_confidence         airline  \\\n",
       "0            NaN                        NaN  Virgin America   \n",
       "1            NaN                     0.0000  Virgin America   \n",
       "2            NaN                        NaN  Virgin America   \n",
       "3     Bad Flight                     0.7033  Virgin America   \n",
       "4     Can't Tell                     1.0000  Virgin America   \n",
       "\n",
       "  airline_sentiment_gold        name negativereason_gold  retweet_count  \\\n",
       "0                    NaN     cairdin                 NaN              0   \n",
       "1                    NaN    jnardino                 NaN              0   \n",
       "2                    NaN  yvonnalynn                 NaN              0   \n",
       "3                    NaN    jnardino                 NaN              0   \n",
       "4                    NaN    jnardino                 NaN              0   \n",
       "\n",
       "                                                text tweet_coord  \\\n",
       "0                @VirginAmerica What @dhepburn said.         NaN   \n",
       "1  @VirginAmerica plus you've added commercials t...         NaN   \n",
       "2  @VirginAmerica I didn't today... Must mean I n...         NaN   \n",
       "3  @VirginAmerica it's really aggressive to blast...         NaN   \n",
       "4  @VirginAmerica and it's a really big bad thing...         NaN   \n",
       "\n",
       "               tweet_created tweet_location               user_timezone  \n",
       "0  2015-02-24 11:35:52 -0800            NaN  Eastern Time (US & Canada)  \n",
       "1  2015-02-24 11:15:59 -0800            NaN  Pacific Time (US & Canada)  \n",
       "2  2015-02-24 11:15:48 -0800      Lets Play  Central Time (US & Canada)  \n",
       "3  2015-02-24 11:15:36 -0800            NaN  Pacific Time (US & Canada)  \n",
       "4  2015-02-24 11:14:45 -0800            NaN  Pacific Time (US & Canada)  "
      ]
     },
     "metadata": {},
     "output_type": "display_data"
    },
    {
     "name": "stdout",
     "output_type": "stream",
     "text": [
      "(14640, 15)\n",
      "<class 'pandas.core.frame.DataFrame'>\n",
      "RangeIndex: 14640 entries, 0 to 14639\n",
      "Data columns (total 15 columns):\n",
      " #   Column                        Non-Null Count  Dtype  \n",
      "---  ------                        --------------  -----  \n",
      " 0   tweet_id                      14640 non-null  int64  \n",
      " 1   airline_sentiment             14640 non-null  object \n",
      " 2   airline_sentiment_confidence  14640 non-null  float64\n",
      " 3   negativereason                9178 non-null   object \n",
      " 4   negativereason_confidence     10522 non-null  float64\n",
      " 5   airline                       14640 non-null  object \n",
      " 6   airline_sentiment_gold        40 non-null     object \n",
      " 7   name                          14640 non-null  object \n",
      " 8   negativereason_gold           32 non-null     object \n",
      " 9   retweet_count                 14640 non-null  int64  \n",
      " 10  text                          14640 non-null  object \n",
      " 11  tweet_coord                   1019 non-null   object \n",
      " 12  tweet_created                 14640 non-null  object \n",
      " 13  tweet_location                9907 non-null   object \n",
      " 14  user_timezone                 9820 non-null   object \n",
      "dtypes: float64(2), int64(2), object(11)\n",
      "memory usage: 1.7+ MB\n"
     ]
    }
   ],
   "source": [
    "df = pd.read_csv(CSV_PATH)\n",
    "display(df.head())\n",
    "print(df.shape)\n",
    "df.info(show_counts=True)"
   ]
  },
  {
   "cell_type": "markdown",
   "id": "0b7fad73",
   "metadata": {},
   "source": [
    "## 2  Data Structure\n",
    "\n",
    "| Column                       | Dtype   | Description                                                 |\n",
    "|------------------------------|---------|-------------------------------------------------------------|\n",
    "| `tweet_id`                   | int64   | Unique tweet identifier                                     |\n",
    "| `airline_sentiment`          | object  | Labeled sentiment (`negative`, `neutral`, `positive`)       |\n",
    "| `airline_sentiment_confidence` | float64 | Model confidence for `airline_sentiment`                    |\n",
    "| `negativereason`             | object  | Reason for negative sentiment (NaN for neutral/positive)    |\n",
    "| `negativereason_confidence`  | float64 | Model confidence for `negativereason`                       |\n",
    "| `airline`                    | object  | Airline name (`American`, `Delta`, `United`, …)             |\n",
    "| `airline_sentiment_gold`     | object  | Gold‑standard label (very sparse)                           |\n",
    "| `name`                       | object  | Twitter handle of the author                                |\n",
    "| `negativereason_gold`        | object  | Gold‑standard negative reason (very sparse)                 |\n",
    "| `retweet_count`              | int64   | How many times the tweet was retweeted                      |\n",
    "| `text`                       | object  | Full tweet text                                             |\n",
    "| `tweet_coord`                | object  | GPS coordinates if provided                                 |\n",
    "| `tweet_created`              | object  | UTC timestamp string                                        |\n",
    "| `tweet_location`             | object  | User‑provided location                                      |\n",
    "| `user_timezone`              | object  | User‐reported timezone                                      |"
   ]
  },
  {
   "cell_type": "markdown",
   "id": "2d5fd072",
   "metadata": {},
   "source": [
    "## 3  Sentiment Distribution\n",
    "\n",
    "The bar chart below illustrates the overall class balance (9 178 negative, 3 099 neutral, 2 363 positive).  \n",
    "The figure is saved to **`reports/fig_sentiment_distribution.png`**.\n",
    "\n",
    "| Sentiment | Tweets | Share |\n",
    "|-----------|--------|-------|\n",
    "| Negative  | 9 178  | 62.7 % |\n",
    "| Neutral   | 3 099  | 21.2 % |\n",
    "| Positive  | 2 363  | 16.1 % |"
   ]
  },
  {
   "cell_type": "code",
   "execution_count": 3,
   "id": "76b2de3f",
   "metadata": {},
   "outputs": [
    {
     "data": {
      "image/png": "[encoded data removed]",
      "text/plain": [
       "<Figure size 600x400 with 1 Axes>"
      ]
     },
     "metadata": {},
     "output_type": "display_data"
    }
   ],
   "source": [
    "sent_counts = df[\"airline_sentiment\"].value_counts().sort_index()\n",
    "\n",
    "plt.figure(figsize=(6, 4))                # single plot\n",
    "sns.barplot(x=sent_counts.index, y=sent_counts.values)\n",
    "plt.title(\"Overall sentiment distribution\")\n",
    "plt.ylabel(\"Tweet count\")\n",
    "plt.tight_layout()\n",
    "plot_path = pathlib.Path(\"../reports/fig_sentiment_distribution.png\")\n",
    "plt.savefig(plot_path, dpi=150)"
   ]
  },
  {
   "cell_type": "markdown",
   "id": "c29a363b",
   "metadata": {},
   "source": [
    "## 4  Sentiment by Airline\n",
    "\n",
    "The heatmap below shows sentiment counts for each airline.  \n",
    "The figure is saved to **`reports/fig_sentiment_by_airline.png`**.\n",
    "\n",
    "| Airline          | Negative | Neutral | Positive |\n",
    "|------------------|---------:|--------:|---------:|\n",
    "| American         | 1 960 | 463 | 336 |\n",
    "| Delta            |   955 | 723 | 544 |\n",
    "| Southwest        | 1 186 | 664 | 570 |\n",
    "| US Airways       | 2 263 | 381 | 269 |\n",
    "| United           | 2 633 | 697 | 492 |\n",
    "| Virgin America   |   181 | 171 | 152 |"
   ]
  },
  {
   "cell_type": "code",
   "execution_count": 4,
   "id": "ad15db55",
   "metadata": {},
   "outputs": [
    {
     "data": {
      "image/png": "[encoded data removed]",
      "text/plain": [
       "<Figure size 600x300 with 2 Axes>"
      ]
     },
     "metadata": {},
     "output_type": "display_data"
    }
   ],
   "source": [
    "pivot = (\n",
    "    df.pivot_table(\n",
    "        index=\"airline\", \n",
    "        columns=\"airline_sentiment\", \n",
    "        values=\"tweet_id\", \n",
    "        aggfunc=\"count\",\n",
    "        fill_value=0,\n",
    "    )\n",
    "    .loc[:, [\"negative\", \"neutral\", \"positive\"]]\n",
    ")\n",
    "\n",
    "plt.figure(figsize=(6, 3))\n",
    "sns.heatmap(pivot, annot=True, fmt=\"d\", cmap=\"YlGnBu\")\n",
    "plt.title(\"Sentiment by airline\")\n",
    "plt.tight_layout()\n",
    "plot_path2 = pathlib.Path(\"../reports/fig_sentiment_by_airline.png\")\n",
    "plt.savefig(plot_path2, dpi=150)"
   ]
  },
  {
   "cell_type": "markdown",
   "id": "d95f493e",
   "metadata": {},
   "source": [
    "## 5  Key Observations\n",
    "\n",
    "- The dataset is **imbalanced**: 62.7 % negative, 21.2 % neutral, and 16.1 % positive.  \n",
    "  *Implication*: stratified splits and class weighting will be required to avoid biased models.  \n",
    "- **United** and **US Airways** receive the highest volumes of negative tweets (2 633 and 2 263 respectively).  \n",
    "- **American** also attracts many complaints, whereas **Southwest** shows a comparatively higher share of positive tweets.  \n",
    "- Text preprocessing must address URLs, mentions, casing, and lemmatization before vectorization.  \n",
    "- The `negativereason` column is populated for ~9 000 rows; it may enable multi‑task learning or error‑analysis later."
   ]
  }
 ],
 "metadata": {
  "kernelspec": {
   "display_name": "twitter-airline-env",
   "language": "python",
   "name": "python3"
  },
  "language_info": {
   "codemirror_mode": {
    "name": "ipython",
    "version": 3
   },
   "file_extension": ".py",
   "mimetype": "text/x-python",
   "name": "python",
   "nbconvert_exporter": "python",
   "pygments_lexer": "ipython3",
   "version": "3.11.9"
  }
 },
 "nbformat": 4,
 "nbformat_minor": 5
}
