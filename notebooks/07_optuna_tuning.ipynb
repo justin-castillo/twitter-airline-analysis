{
 "cells": [
  {
   "cell_type": "markdown",
   "id": "11ffd0cf",
   "metadata": {},
   "source": [
    "## 1 — global setup: seed, imports, deterministic backend   "
   ]
  },
  {
   "cell_type": "code",
   "execution_count": null,
   "id": "9fd4c428",
   "metadata": {},
   "outputs": [
    {
     "name": "stderr",
     "output_type": "stream",
     "text": [
      "c:\\Users\\justi\\Anaconda3\\envs\\twitter-sentiment-env\\Lib\\site-packages\\tqdm\\auto.py:21: TqdmWarning: IProgress not found. Please update jupyter and ipywidgets. See https://ipywidgets.readthedocs.io/en/stable/user_install.html\n",
      "  from .autonotebook import tqdm as notebook_tqdm\n"
     ]
    }
   ],
   "source": [
    "# ╔════════════════════════════════════════════════════════════════╗\n",
    "# ║  Cell 1 — global setup: seed, imports, deterministic backend   ║\n",
    "# ╚════════════════════════════════════════════════════════════════╝\n",
    "RANDOM_SEED = 42\n",
    "\n",
    "# -- make project root importable ---------------------------------\n",
    "import sys, pathlib\n",
    "sys.path.append(str(pathlib.Path.cwd().parent))   # <‑‑ added line\n",
    "\n",
    "# -- std libs & third‑party ---------------------------------------\n",
    "import os, random\n",
    "import numpy as np\n",
    "import pandas as pd\n",
    "import matplotlib.pyplot as plt\n",
    "import optuna\n",
    "from sklearn import set_config\n",
    "from twitter_airline_analysis.data_prep import load_prepared_data\n",
    "\n",
    "import optuna\n",
    "from sklearn.pipeline          import Pipeline\n",
    "from sklearn.feature_extraction.text import TfidfVectorizer\n",
    "from sklearn.linear_model      import LogisticRegression\n",
    "from sklearn.metrics           import roc_auc_score\n",
    "from sklearn.model_selection   import train_test_split\n",
    "\n",
    "set_config(transform_output=\"pandas\")\n",
    "\n",
    "# -- reproducibility ----------------------------------------------\n",
    "random.seed(RANDOM_SEED)\n",
    "np.random.seed(RANDOM_SEED)\n",
    "os.environ[\"PYTHONHASHSEED\"] = str(RANDOM_SEED)\n"
   ]
  },
  {
   "cell_type": "markdown",
   "id": "1207d40d",
   "metadata": {},
   "source": [
    "## 2 - load and split data"
   ]
  },
  {
   "cell_type": "code",
   "execution_count": 2,
   "id": "27637e2e",
   "metadata": {},
   "outputs": [],
   "source": [
    "# Load and Split \n",
    "X, y = load_prepared_data()           # uses the pre‑cleaned text & label\n",
    "\n",
    "X_train, X_valid, y_train, y_valid = train_test_split(\n",
    "    X, y, test_size=0.2, stratify=y, random_state=42\n",
    ")"
   ]
  },
  {
   "cell_type": "markdown",
   "id": "1961961d",
   "metadata": {},
   "source": [
    "## 3 - Optuna Setup\n",
    "\n",
    "The objective is deliberately lightweight; feature engineering is confined to TfidfVectorizer to keep search time reasonable."
   ]
  },
  {
   "cell_type": "code",
   "execution_count": null,
   "id": "8276c0e3",
   "metadata": {},
   "outputs": [],
   "source": [
    "def objective(trial: optuna.Trial) -> float:\n",
    "    \"\"\"Return validation ROC‑AUC for a single trial.\"\"\"\n",
    "    pipeline = Pipeline([\n",
    "        (\"tfidf\", TfidfVectorizer(\n",
    "            max_df      = trial.suggest_float(\"max_df\", 0.7, 1.0),\n",
    "            min_df      = trial.suggest_int(  \"min_df\", 1, 10),\n",
    "            ngram_range = (1, trial.suggest_int(\"max_ngram\", 1, 3)),\n",
    "            sublinear_tf= True\n",
    "        )),\n",
    "        (\"clf\", LogisticRegression(\n",
    "            C       = trial.suggest_loguniform(\"C\", 1e-3, 1e+2),\n",
    "            penalty = trial.suggest_categorical(\"penalty\", [\"l2\", \"elasticnet\"]),\n",
    "            solver  = \"saga\",\n",
    "            l1_ratio= trial.suggest_float(\"l1_ratio\", 0.0, 1.0) if\n",
    "                      trial.params.get(\"penalty\") == \"elasticnet\" else None,\n",
    "            max_iter= 500,\n",
    "            n_jobs  = -1,\n",
    "            random_state = 42\n",
    "        ))\n",
    "    ])\n",
    "    pipeline.fit(X_train, y_train)\n",
    "    preds = pipeline.predict_proba(X_valid)[:, 1]\n",
    "    return roc_auc_score(y_valid, preds)\n",
    "\n",
    "study = optuna.create_study(\n",
    "    direction=\"maximize\",\n",
    "    study_name=\"logreg_tfidf_auc\",\n",
    "    pruner=optuna.pruners.MedianPruner(n_warmup_steps=10),\n",
    "    storage=\"sqlite:///artifacts/optuna_study.db\",\n",
    "    load_if_exists=True\n",
    ")"
   ]
  },
  {
   "cell_type": "markdown",
   "id": "875fc074",
   "metadata": {},
   "source": [
    "## 4 - Run Study"
   ]
  },
  {
   "cell_type": "code",
   "execution_count": null,
   "id": "9cc36211",
   "metadata": {},
   "outputs": [],
   "source": [
    "study.optimize(objective, n_trials=100, show_progress_bar=True)"
   ]
  }
 ],
 "metadata": {
  "kernelspec": {
   "display_name": "twitter-sentiment-env",
   "language": "python",
   "name": "python3"
  },
  "language_info": {
   "codemirror_mode": {
    "name": "ipython",
    "version": 3
   },
   "file_extension": ".py",
   "mimetype": "text/x-python",
   "name": "python",
   "nbconvert_exporter": "python",
   "pygments_lexer": "ipython3",
   "version": "3.11.9"
  }
 },
 "nbformat": 4,
 "nbformat_minor": 5
}
