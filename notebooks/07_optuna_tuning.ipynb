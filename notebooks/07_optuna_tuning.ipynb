{
 "cells": [
  {
   "cell_type": "markdown",
   "id": "11ffd0cf",
   "metadata": {},
   "source": [
    "## 1 — global setup: seed, imports, deterministic backend   "
   ]
  },
  {
   "cell_type": "code",
   "execution_count": 1,
   "id": "9fd4c428",
   "metadata": {},
   "outputs": [
    {
     "name": "stderr",
     "output_type": "stream",
     "text": [
      "c:\\Users\\justi\\Anaconda3\\envs\\twitter-sentiment-env\\Lib\\site-packages\\tqdm\\auto.py:21: TqdmWarning: IProgress not found. Please update jupyter and ipywidgets. See https://ipywidgets.readthedocs.io/en/stable/user_install.html\n",
      "  from .autonotebook import tqdm as notebook_tqdm\n"
     ]
    }
   ],
   "source": [
    "RANDOM_SEED = 42\n",
    "\n",
    "# ── make project root importable ────────────────────────────────\n",
    "import sys\n",
    "import pathlib\n",
    "sys.path.append(str(pathlib.Path.cwd().parent))          # …/twitter-airline-analysis\n",
    "\n",
    "# ── stdlib ──────────────────────────────────────────────────────\n",
    "import os\n",
    "import random\n",
    "from pathlib import Path\n",
    "\n",
    "# ── third-party ────────────────────────────────────────────────\n",
    "import numpy as np\n",
    "import pandas as pd\n",
    "import matplotlib.pyplot as plt        # used for Optuna plots later\n",
    "import optuna\n",
    "from joblib                           import load, dump\n",
    "from sklearn import set_config\n",
    "from sklearn.pipeline                 import Pipeline\n",
    "from sklearn.feature_extraction.text  import TfidfVectorizer\n",
    "from sklearn.linear_model             import LogisticRegression\n",
    "from sklearn.metrics                  import roc_auc_score, classification_report, RocCurveDisplay\n",
    "from sklearn.model_selection          import train_test_split\n",
    "\n",
    "# ── local project code ─────────────────────────────────────────\n",
    "from twitter_airline_analysis.data_prep import load_prepared_data\n",
    "\n",
    "# ── global sklearn setting ─────────────────────────────────────\n",
    "set_config(transform_output=\"pandas\")\n",
    "\n",
    "# ── project paths ──────────────────────────────────────────────\n",
    "PROJECT_ROOT   = Path.cwd().resolve().parent\n",
    "BASELINE_PATH  = PROJECT_ROOT / \"models\" / \"logreg_tfidf.joblib\"\n",
    "TUNED_MODEL_PATH = PROJECT_ROOT / \"models\" / \"logreg_tfidf_optuna.joblib\"\n",
    "PROCESSED_DIR = PROJECT_ROOT / \"data\" / \"processed\"\n",
    "ARTIFACT_DIR  = PROJECT_ROOT / \"artifacts\"\n",
    "ARTIFACT_DIR.mkdir(exist_ok=True)\n",
    "\n",
    "# ── reproducibility ────────────────────────────────────────────\n",
    "random.seed(RANDOM_SEED)\n",
    "np.random.seed(RANDOM_SEED)\n",
    "os.environ[\"PYTHONHASHSEED\"] = str(RANDOM_SEED)"
   ]
  },
  {
   "cell_type": "markdown",
   "id": "1207d40d",
   "metadata": {},
   "source": [
    "## 2 - load and split data"
   ]
  },
  {
   "cell_type": "code",
   "execution_count": 2,
   "id": "27637e2e",
   "metadata": {},
   "outputs": [
    {
     "name": "stdout",
     "output_type": "stream",
     "text": [
      "Shapes — train: (11712,),  valid: (1464,),  test: (1464,)\n"
     ]
    }
   ],
   "source": [
    "def _load_series(name: str):\n",
    "    \"\"\"Return Series from PROCESSED_DIR/<name>.ftr (or .parquet).\"\"\"\n",
    "    ftr_path = PROCESSED_DIR / f\"{name}.ftr\"\n",
    "    pq_path  = PROCESSED_DIR / f\"{name}.parquet\"\n",
    "\n",
    "    if ftr_path.exists():\n",
    "        df = pd.read_feather(ftr_path)\n",
    "    elif pq_path.exists():\n",
    "        df = pd.read_parquet(pq_path)\n",
    "    else:\n",
    "        raise FileNotFoundError(\n",
    "            f\"Neither {ftr_path.name} nor {pq_path.name} found in {PROCESSED_DIR}\"\n",
    "        )\n",
    "\n",
    "    if df.shape[1] == 1:\n",
    "        return df.iloc[:, 0]                  # take the sole column, whatever its name\n",
    "    elif name in df.columns:\n",
    "        return df[name]                       # column matches expected name\n",
    "    else:\n",
    "        raise KeyError(\n",
    "            f\"Expected column '{name}' not found in {ftr_path.name}. \"\n",
    "            f\"Columns present: {list(df.columns)}\"\n",
    "        )\n",
    "\n",
    "# X, y splits already materialised during Module‑4\n",
    "X_train = _load_series(\"X_train\")\n",
    "X_valid = _load_series(\"X_val\")\n",
    "X_test  = _load_series(\"X_test\")\n",
    "\n",
    "y_train = _load_series(\"y_train\")\n",
    "y_valid = _load_series(\"y_val\")\n",
    "y_test  = _load_series(\"y_test\")\n",
    "\n",
    "print(\n",
    "    \"Shapes —\",\n",
    "    f\"train: {X_train.shape},  valid: {X_valid.shape},  test: {X_test.shape}\"\n",
    ")\n"
   ]
  },
  {
   "cell_type": "markdown",
   "id": "ad63ae7d",
   "metadata": {},
   "source": [
    "## 3 - Baseline Reference (Pre‑Optuna)      "
   ]
  },
  {
   "cell_type": "code",
   "execution_count": 3,
   "id": "8fd4c695",
   "metadata": {},
   "outputs": [
    {
     "name": "stdout",
     "output_type": "stream",
     "text": [
      "Looking for baseline at: C:\\Projects\\twitter-airline-analysis\\models\\logreg_tfidf.joblib\n",
      "✔ Loaded baseline artefact.\n",
      "Baseline TF‑IDF + LogReg AUC (OVR, weighted): 0.968\n"
     ]
    }
   ],
   "source": [
    "\"\"\"\n",
    "Falls back to training a minimal model\n",
    "if the file isn’t found, so the notebook remains runnable end-to-end.\n",
    "\"\"\"\n",
    "\n",
    "print(f\"Looking for baseline at: {BASELINE_PATH}\")\n",
    "\n",
    "if BASELINE_PATH.exists():\n",
    "    baseline_pipe = load(BASELINE_PATH)\n",
    "    print(\"✔ Loaded baseline artefact.\")\n",
    "else:\n",
    "    print(\"✗ Baseline artefact not found – training quick default model...\")\n",
    "    baseline_pipe = Pipeline([\n",
    "        (\"tfidf\", TfidfVectorizer(sublinear_tf=True)),\n",
    "        (\"clf\",   LogisticRegression(max_iter=500, n_jobs=-1, random_state=42)),\n",
    "    ])\n",
    "    baseline_pipe.fit(X_train, y_train)\n",
    "    BASELINE_PATH.parent.mkdir(exist_ok=True)\n",
    "    dump(baseline_pipe, BASELINE_PATH)\n",
    "    print(f\"Saved new baseline to {BASELINE_PATH}\")\n",
    "\n",
    "# ── validation metric ──────────────────────────────────────────\n",
    "baseline_preds = baseline_pipe.predict_proba(X_valid)      # ← NO slicing\n",
    "baseline_auc   = roc_auc_score(\n",
    "    y_valid,\n",
    "    baseline_preds,\n",
    "    multi_class=\"ovr\",\n",
    "    average=\"weighted\",\n",
    ")\n",
    "\n",
    "\n",
    "print(f\"Baseline TF‑IDF + LogReg AUC (OVR, weighted): {baseline_auc:.3f}\")\n",
    "\n"
   ]
  },
  {
   "cell_type": "markdown",
   "id": "1961961d",
   "metadata": {},
   "source": [
    "## 3 - Optuna Setup\n",
    "\n",
    "The objective is deliberately lightweight; feature engineering is confined to TfidfVectorizer to keep search time reasonable."
   ]
  },
  {
   "cell_type": "code",
   "execution_count": 4,
   "id": "8276c0e3",
   "metadata": {},
   "outputs": [
    {
     "name": "stderr",
     "output_type": "stream",
     "text": [
      "[I 2025-08-04 00:08:14,623] Using an existing study with name 'logreg_tfidf_auc' instead of creating a new one.\n"
     ]
    }
   ],
   "source": [
    "def objective(trial: optuna.Trial) -> float:\n",
    "    \"\"\"Return validation ROC-AUC for a single Optuna trial.\"\"\"\n",
    "    # ── pipeline definition ─────────────────────────────────────\n",
    "    pipeline = Pipeline([\n",
    "        (\n",
    "            \"tfidf\",\n",
    "            TfidfVectorizer(\n",
    "                max_df      = trial.suggest_float(\"max_df\", 0.7, 1.0),\n",
    "                min_df      = trial.suggest_int(\"min_df\", 1, 10),\n",
    "                ngram_range = (1, trial.suggest_int(\"max_ngram\", 1, 3)),\n",
    "                sublinear_tf=True,\n",
    "            ),\n",
    "        ),\n",
    "        (\n",
    "            \"clf\",\n",
    "            LogisticRegression(\n",
    "                C        = trial.suggest_loguniform(\"C\", 1e-3, 1e2),\n",
    "                penalty  = trial.suggest_categorical(\"penalty\", [\"l2\", \"elasticnet\"]),\n",
    "                solver   = \"saga\",\n",
    "                l1_ratio = (\n",
    "                    trial.suggest_float(\"l1_ratio\", 0.0, 1.0)\n",
    "                    if trial.params.get(\"penalty\") == \"elasticnet\"\n",
    "                    else None\n",
    "                ),\n",
    "                max_iter     = 500,\n",
    "                n_jobs       = -1,\n",
    "                random_state = RANDOM_SEED,\n",
    "            ),\n",
    "        ),\n",
    "    ])\n",
    "\n",
    "    pipeline.fit(X_train, y_train)\n",
    "    probs  = pipeline.predict_proba(X_valid)\n",
    "    score  = roc_auc_score(y_valid, probs, multi_class=\"ovr\", average=\"weighted\")\n",
    "\n",
    "    # ---- persist model & store path (JSON‑friendly) ------------\n",
    "    model_path = ARTIFACT_DIR / f\"trial_{trial.number}_pipe.joblib\"\n",
    "    dump(pipeline, model_path)\n",
    "    trial.set_user_attr(\"pipeline_path\", str(model_path))     # <- string, not object\n",
    "    return score\n",
    "\n",
    "# ── create / load study ────────────────────────────────────────\n",
    "study = optuna.create_study(\n",
    "    direction      = \"maximize\",\n",
    "    study_name     = \"logreg_tfidf_auc\",\n",
    "    pruner         = optuna.pruners.MedianPruner(n_warmup_steps=10),\n",
    "    storage        = f\"sqlite:///{ARTIFACT_DIR/'optuna_study.db'}\",\n",
    "    load_if_exists = True,\n",
    ")"
   ]
  },
  {
   "cell_type": "markdown",
   "id": "875fc074",
   "metadata": {},
   "source": [
    "## 4 - Run Study"
   ]
  },
  {
   "cell_type": "code",
   "execution_count": 5,
   "id": "9cc36211",
   "metadata": {},
   "outputs": [
    {
     "name": "stderr",
     "output_type": "stream",
     "text": [
      "  0%|          | 0/20 [00:00<?, ?it/s]C:\\Users\\justi\\AppData\\Local\\Temp\\ipykernel_15180\\1446669926.py:17: FutureWarning: suggest_loguniform has been deprecated in v3.0.0. This feature will be removed in v6.0.0. See https://github.com/optuna/optuna/releases/tag/v3.0.0. Use suggest_float(..., log=True) instead.\n",
      "  C        = trial.suggest_loguniform(\"C\", 1e-3, 1e2),\n",
      "Best trial: 3. Best value: 0.825719:   5%|▌         | 1/20 [00:00<00:13,  1.37it/s]C:\\Users\\justi\\AppData\\Local\\Temp\\ipykernel_15180\\1446669926.py:17: FutureWarning: suggest_loguniform has been deprecated in v3.0.0. This feature will be removed in v6.0.0. See https://github.com/optuna/optuna/releases/tag/v3.0.0. Use suggest_float(..., log=True) instead.\n",
      "  C        = trial.suggest_loguniform(\"C\", 1e-3, 1e2),\n"
     ]
    },
    {
     "name": "stdout",
     "output_type": "stream",
     "text": [
      "[I 2025-08-04 00:08:15,378] Trial 3 finished with value: 0.8257189390909925 and parameters: {'max_df': 0.8274770483152232, 'min_df': 8, 'max_ngram': 1, 'C': 0.037213823406135015, 'penalty': 'elasticnet', 'l1_ratio': 0.36615624536316715}. Best is trial 3 with value: 0.8257189390909925.\n"
     ]
    },
    {
     "name": "stderr",
     "output_type": "stream",
     "text": [
      "Best trial: 4. Best value: 0.848116:  10%|█         | 2/20 [00:02<00:20,  1.14s/it]C:\\Users\\justi\\AppData\\Local\\Temp\\ipykernel_15180\\1446669926.py:17: FutureWarning: suggest_loguniform has been deprecated in v3.0.0. This feature will be removed in v6.0.0. See https://github.com/optuna/optuna/releases/tag/v3.0.0. Use suggest_float(..., log=True) instead.\n",
      "  C        = trial.suggest_loguniform(\"C\", 1e-3, 1e2),\n"
     ]
    },
    {
     "name": "stdout",
     "output_type": "stream",
     "text": [
      "[I 2025-08-04 00:08:16,800] Trial 4 finished with value: 0.8481160315540904 and parameters: {'max_df': 0.9007112356742406, 'min_df': 9, 'max_ngram': 2, 'C': 0.036455886703878046, 'penalty': 'elasticnet', 'l1_ratio': 0.138915553033095}. Best is trial 4 with value: 0.8481160315540904.\n"
     ]
    },
    {
     "name": "stderr",
     "output_type": "stream",
     "text": [
      "Best trial: 5. Best value: 0.88097:  15%|█▌        | 3/20 [04:23<33:58, 119.91s/it]C:\\Users\\justi\\AppData\\Local\\Temp\\ipykernel_15180\\1446669926.py:17: FutureWarning: suggest_loguniform has been deprecated in v3.0.0. This feature will be removed in v6.0.0. See https://github.com/optuna/optuna/releases/tag/v3.0.0. Use suggest_float(..., log=True) instead.\n",
      "  C        = trial.suggest_loguniform(\"C\", 1e-3, 1e2),\n"
     ]
    },
    {
     "name": "stdout",
     "output_type": "stream",
     "text": [
      "[I 2025-08-04 00:12:38,039] Trial 5 finished with value: 0.8809704998517609 and parameters: {'max_df': 0.8040772220909173, 'min_df': 5, 'max_ngram': 2, 'C': 80.72609335977907, 'penalty': 'elasticnet', 'l1_ratio': 0.053764290860694786}. Best is trial 5 with value: 0.8809704998517609.\n"
     ]
    },
    {
     "name": "stderr",
     "output_type": "stream",
     "text": [
      "Best trial: 5. Best value: 0.88097:  20%|██        | 4/20 [04:24<19:25, 72.85s/it] C:\\Users\\justi\\AppData\\Local\\Temp\\ipykernel_15180\\1446669926.py:17: FutureWarning: suggest_loguniform has been deprecated in v3.0.0. This feature will be removed in v6.0.0. See https://github.com/optuna/optuna/releases/tag/v3.0.0. Use suggest_float(..., log=True) instead.\n",
      "  C        = trial.suggest_loguniform(\"C\", 1e-3, 1e2),\n"
     ]
    },
    {
     "name": "stdout",
     "output_type": "stream",
     "text": [
      "[I 2025-08-04 00:12:38,755] Trial 6 finished with value: 0.5 and parameters: {'max_df': 0.8827839580648288, 'min_df': 8, 'max_ngram': 2, 'C': 0.004702448642909703, 'penalty': 'elasticnet', 'l1_ratio': 0.6130384423895848}. Best is trial 5 with value: 0.8809704998517609.\n"
     ]
    },
    {
     "name": "stderr",
     "output_type": "stream",
     "text": [
      "Best trial: 7. Best value: 0.908301:  25%|██▌       | 5/20 [04:25<11:44, 47.00s/it]C:\\Users\\justi\\AppData\\Local\\Temp\\ipykernel_15180\\1446669926.py:17: FutureWarning: suggest_loguniform has been deprecated in v3.0.0. This feature will be removed in v6.0.0. See https://github.com/optuna/optuna/releases/tag/v3.0.0. Use suggest_float(..., log=True) instead.\n",
      "  C        = trial.suggest_loguniform(\"C\", 1e-3, 1e2),\n"
     ]
    },
    {
     "name": "stdout",
     "output_type": "stream",
     "text": [
      "[I 2025-08-04 00:12:39,897] Trial 7 finished with value: 0.9083006666056663 and parameters: {'max_df': 0.8502179471400305, 'min_df': 3, 'max_ngram': 2, 'C': 5.101504892404102, 'penalty': 'l2'}. Best is trial 7 with value: 0.9083006666056663.\n"
     ]
    },
    {
     "name": "stderr",
     "output_type": "stream",
     "text": [
      "Best trial: 7. Best value: 0.908301:  30%|███       | 6/20 [04:27<07:23, 31.66s/it]C:\\Users\\justi\\AppData\\Local\\Temp\\ipykernel_15180\\1446669926.py:17: FutureWarning: suggest_loguniform has been deprecated in v3.0.0. This feature will be removed in v6.0.0. See https://github.com/optuna/optuna/releases/tag/v3.0.0. Use suggest_float(..., log=True) instead.\n",
      "  C        = trial.suggest_loguniform(\"C\", 1e-3, 1e2),\n"
     ]
    },
    {
     "name": "stdout",
     "output_type": "stream",
     "text": [
      "[I 2025-08-04 00:12:41,788] Trial 8 finished with value: 0.907148923050688 and parameters: {'max_df': 0.792505745731923, 'min_df': 2, 'max_ngram': 2, 'C': 18.002020718463765, 'penalty': 'l2'}. Best is trial 7 with value: 0.9083006666056663.\n"
     ]
    },
    {
     "name": "stderr",
     "output_type": "stream",
     "text": [
      "Best trial: 7. Best value: 0.908301:  35%|███▌      | 7/20 [04:28<04:41, 21.62s/it]C:\\Users\\justi\\AppData\\Local\\Temp\\ipykernel_15180\\1446669926.py:17: FutureWarning: suggest_loguniform has been deprecated in v3.0.0. This feature will be removed in v6.0.0. See https://github.com/optuna/optuna/releases/tag/v3.0.0. Use suggest_float(..., log=True) instead.\n",
      "  C        = trial.suggest_loguniform(\"C\", 1e-3, 1e2),\n"
     ]
    },
    {
     "name": "stdout",
     "output_type": "stream",
     "text": [
      "[I 2025-08-04 00:12:42,742] Trial 9 finished with value: 0.5878506170536839 and parameters: {'max_df': 0.8467605497393733, 'min_df': 8, 'max_ngram': 2, 'C': 0.006390228075503394, 'penalty': 'elasticnet', 'l1_ratio': 0.23677304911832475}. Best is trial 7 with value: 0.9083006666056663.\n"
     ]
    },
    {
     "name": "stderr",
     "output_type": "stream",
     "text": [
      "Best trial: 7. Best value: 0.908301:  40%|████      | 8/20 [04:29<03:01, 15.17s/it]C:\\Users\\justi\\AppData\\Local\\Temp\\ipykernel_15180\\1446669926.py:17: FutureWarning: suggest_loguniform has been deprecated in v3.0.0. This feature will be removed in v6.0.0. See https://github.com/optuna/optuna/releases/tag/v3.0.0. Use suggest_float(..., log=True) instead.\n",
      "  C        = trial.suggest_loguniform(\"C\", 1e-3, 1e2),\n"
     ]
    },
    {
     "name": "stdout",
     "output_type": "stream",
     "text": [
      "[I 2025-08-04 00:12:44,076] Trial 10 finished with value: 0.889267947790735 and parameters: {'max_df': 0.9457704820814028, 'min_df': 10, 'max_ngram': 3, 'C': 11.178567235604065, 'penalty': 'l2'}. Best is trial 7 with value: 0.9083006666056663.\n"
     ]
    },
    {
     "name": "stderr",
     "output_type": "stream",
     "text": [
      "Best trial: 7. Best value: 0.908301:  45%|████▌     | 9/20 [04:30<01:58, 10.77s/it]C:\\Users\\justi\\AppData\\Local\\Temp\\ipykernel_15180\\1446669926.py:17: FutureWarning: suggest_loguniform has been deprecated in v3.0.0. This feature will be removed in v6.0.0. See https://github.com/optuna/optuna/releases/tag/v3.0.0. Use suggest_float(..., log=True) instead.\n",
      "  C        = trial.suggest_loguniform(\"C\", 1e-3, 1e2),\n"
     ]
    },
    {
     "name": "stdout",
     "output_type": "stream",
     "text": [
      "[I 2025-08-04 00:12:45,184] Trial 11 finished with value: 0.8732110387747023 and parameters: {'max_df': 0.7673401483780987, 'min_df': 9, 'max_ngram': 3, 'C': 0.017509400406287068, 'penalty': 'l2'}. Best is trial 7 with value: 0.9083006666056663.\n"
     ]
    },
    {
     "name": "stderr",
     "output_type": "stream",
     "text": [
      "Best trial: 12. Best value: 0.910794:  50%|█████     | 10/20 [04:31<01:18,  7.84s/it]C:\\Users\\justi\\AppData\\Local\\Temp\\ipykernel_15180\\1446669926.py:17: FutureWarning: suggest_loguniform has been deprecated in v3.0.0. This feature will be removed in v6.0.0. See https://github.com/optuna/optuna/releases/tag/v3.0.0. Use suggest_float(..., log=True) instead.\n",
      "  C        = trial.suggest_loguniform(\"C\", 1e-3, 1e2),\n"
     ]
    },
    {
     "name": "stdout",
     "output_type": "stream",
     "text": [
      "[I 2025-08-04 00:12:46,488] Trial 12 finished with value: 0.9107937658707393 and parameters: {'max_df': 0.75896852709378, 'min_df': 3, 'max_ngram': 3, 'C': 1.5245680869325118, 'penalty': 'l2'}. Best is trial 12 with value: 0.9107937658707393.\n"
     ]
    },
    {
     "name": "stderr",
     "output_type": "stream",
     "text": [
      "Best trial: 12. Best value: 0.910794:  55%|█████▌    | 11/20 [04:34<00:57,  6.39s/it]C:\\Users\\justi\\AppData\\Local\\Temp\\ipykernel_15180\\1446669926.py:17: FutureWarning: suggest_loguniform has been deprecated in v3.0.0. This feature will be removed in v6.0.0. See https://github.com/optuna/optuna/releases/tag/v3.0.0. Use suggest_float(..., log=True) instead.\n",
      "  C        = trial.suggest_loguniform(\"C\", 1e-3, 1e2),\n"
     ]
    },
    {
     "name": "stdout",
     "output_type": "stream",
     "text": [
      "[I 2025-08-04 00:12:49,561] Trial 13 finished with value: 0.8989134377459684 and parameters: {'max_df': 0.7079961349812044, 'min_df': 1, 'max_ngram': 3, 'C': 0.49583204311837525, 'penalty': 'l2'}. Best is trial 12 with value: 0.9107937658707393.\n"
     ]
    },
    {
     "name": "stderr",
     "output_type": "stream",
     "text": [
      "Best trial: 12. Best value: 0.910794:  60%|██████    | 12/20 [04:35<00:37,  4.63s/it]C:\\Users\\justi\\AppData\\Local\\Temp\\ipykernel_15180\\1446669926.py:17: FutureWarning: suggest_loguniform has been deprecated in v3.0.0. This feature will be removed in v6.0.0. See https://github.com/optuna/optuna/releases/tag/v3.0.0. Use suggest_float(..., log=True) instead.\n",
      "  C        = trial.suggest_loguniform(\"C\", 1e-3, 1e2),\n"
     ]
    },
    {
     "name": "stdout",
     "output_type": "stream",
     "text": [
      "[I 2025-08-04 00:12:50,177] Trial 14 finished with value: 0.9059194821917979 and parameters: {'max_df': 0.7266463175494071, 'min_df': 4, 'max_ngram': 1, 'C': 1.2012281417087878, 'penalty': 'l2'}. Best is trial 12 with value: 0.9107937658707393.\n"
     ]
    },
    {
     "name": "stderr",
     "output_type": "stream",
     "text": [
      "Best trial: 12. Best value: 0.910794:  65%|██████▌   | 13/20 [04:37<00:25,  3.67s/it]C:\\Users\\justi\\AppData\\Local\\Temp\\ipykernel_15180\\1446669926.py:17: FutureWarning: suggest_loguniform has been deprecated in v3.0.0. This feature will be removed in v6.0.0. See https://github.com/optuna/optuna/releases/tag/v3.0.0. Use suggest_float(..., log=True) instead.\n",
      "  C        = trial.suggest_loguniform(\"C\", 1e-3, 1e2),\n"
     ]
    },
    {
     "name": "stdout",
     "output_type": "stream",
     "text": [
      "[I 2025-08-04 00:12:51,643] Trial 15 finished with value: 0.90895418426929 and parameters: {'max_df': 0.9625779645749888, 'min_df': 3, 'max_ngram': 3, 'C': 3.6377727030557914, 'penalty': 'l2'}. Best is trial 12 with value: 0.9107937658707393.\n"
     ]
    },
    {
     "name": "stderr",
     "output_type": "stream",
     "text": [
      "Best trial: 12. Best value: 0.910794:  70%|███████   | 14/20 [04:38<00:17,  2.96s/it]C:\\Users\\justi\\AppData\\Local\\Temp\\ipykernel_15180\\1446669926.py:17: FutureWarning: suggest_loguniform has been deprecated in v3.0.0. This feature will be removed in v6.0.0. See https://github.com/optuna/optuna/releases/tag/v3.0.0. Use suggest_float(..., log=True) instead.\n",
      "  C        = trial.suggest_loguniform(\"C\", 1e-3, 1e2),\n"
     ]
    },
    {
     "name": "stdout",
     "output_type": "stream",
     "text": [
      "[I 2025-08-04 00:12:52,965] Trial 16 finished with value: 0.9076563983013383 and parameters: {'max_df': 0.9800516027576999, 'min_df': 6, 'max_ngram': 3, 'C': 2.131964630563712, 'penalty': 'l2'}. Best is trial 12 with value: 0.9107937658707393.\n"
     ]
    },
    {
     "name": "stderr",
     "output_type": "stream",
     "text": [
      "Best trial: 12. Best value: 0.910794:  75%|███████▌  | 15/20 [04:39<00:12,  2.48s/it]C:\\Users\\justi\\AppData\\Local\\Temp\\ipykernel_15180\\1446669926.py:17: FutureWarning: suggest_loguniform has been deprecated in v3.0.0. This feature will be removed in v6.0.0. See https://github.com/optuna/optuna/releases/tag/v3.0.0. Use suggest_float(..., log=True) instead.\n",
      "  C        = trial.suggest_loguniform(\"C\", 1e-3, 1e2),\n"
     ]
    },
    {
     "name": "stdout",
     "output_type": "stream",
     "text": [
      "[I 2025-08-04 00:12:54,324] Trial 17 finished with value: 0.9034591793150465 and parameters: {'max_df': 0.9933669858599004, 'min_df': 3, 'max_ngram': 3, 'C': 0.31161943721435864, 'penalty': 'l2'}. Best is trial 12 with value: 0.9107937658707393.\n"
     ]
    },
    {
     "name": "stderr",
     "output_type": "stream",
     "text": [
      "Best trial: 12. Best value: 0.910794:  80%|████████  | 16/20 [04:42<00:10,  2.72s/it]C:\\Users\\justi\\AppData\\Local\\Temp\\ipykernel_15180\\1446669926.py:17: FutureWarning: suggest_loguniform has been deprecated in v3.0.0. This feature will be removed in v6.0.0. See https://github.com/optuna/optuna/releases/tag/v3.0.0. Use suggest_float(..., log=True) instead.\n",
      "  C        = trial.suggest_loguniform(\"C\", 1e-3, 1e2),\n"
     ]
    },
    {
     "name": "stdout",
     "output_type": "stream",
     "text": [
      "[I 2025-08-04 00:12:57,605] Trial 18 finished with value: 0.8853549071999014 and parameters: {'max_df': 0.9292510830519236, 'min_df': 1, 'max_ngram': 3, 'C': 0.1389164310868725, 'penalty': 'l2'}. Best is trial 12 with value: 0.9107937658707393.\n"
     ]
    },
    {
     "name": "stderr",
     "output_type": "stream",
     "text": [
      "Best trial: 12. Best value: 0.910794:  85%|████████▌ | 17/20 [04:44<00:06,  2.33s/it]C:\\Users\\justi\\AppData\\Local\\Temp\\ipykernel_15180\\1446669926.py:17: FutureWarning: suggest_loguniform has been deprecated in v3.0.0. This feature will be removed in v6.0.0. See https://github.com/optuna/optuna/releases/tag/v3.0.0. Use suggest_float(..., log=True) instead.\n",
      "  C        = trial.suggest_loguniform(\"C\", 1e-3, 1e2),\n"
     ]
    },
    {
     "name": "stdout",
     "output_type": "stream",
     "text": [
      "[I 2025-08-04 00:12:59,012] Trial 19 finished with value: 0.8544883434951155 and parameters: {'max_df': 0.7376036426792445, 'min_df': 6, 'max_ngram': 3, 'C': 0.001032283918759201, 'penalty': 'l2'}. Best is trial 12 with value: 0.9107937658707393.\n"
     ]
    },
    {
     "name": "stderr",
     "output_type": "stream",
     "text": [
      "Best trial: 12. Best value: 0.910794:  90%|█████████ | 18/20 [04:47<00:05,  2.52s/it]C:\\Users\\justi\\AppData\\Local\\Temp\\ipykernel_15180\\1446669926.py:17: FutureWarning: suggest_loguniform has been deprecated in v3.0.0. This feature will be removed in v6.0.0. See https://github.com/optuna/optuna/releases/tag/v3.0.0. Use suggest_float(..., log=True) instead.\n",
      "  C        = trial.suggest_loguniform(\"C\", 1e-3, 1e2),\n"
     ]
    },
    {
     "name": "stdout",
     "output_type": "stream",
     "text": [
      "[I 2025-08-04 00:13:02,005] Trial 20 finished with value: 0.8884793171363264 and parameters: {'max_df': 0.7598750405558771, 'min_df': 4, 'max_ngram': 3, 'C': 68.83299472391637, 'penalty': 'l2'}. Best is trial 12 with value: 0.9107937658707393.\n"
     ]
    },
    {
     "name": "stderr",
     "output_type": "stream",
     "text": [
      "Best trial: 12. Best value: 0.910794:  95%|█████████▌| 19/20 [04:48<00:01,  1.99s/it]C:\\Users\\justi\\AppData\\Local\\Temp\\ipykernel_15180\\1446669926.py:17: FutureWarning: suggest_loguniform has been deprecated in v3.0.0. This feature will be removed in v6.0.0. See https://github.com/optuna/optuna/releases/tag/v3.0.0. Use suggest_float(..., log=True) instead.\n",
      "  C        = trial.suggest_loguniform(\"C\", 1e-3, 1e2),\n"
     ]
    },
    {
     "name": "stdout",
     "output_type": "stream",
     "text": [
      "[I 2025-08-04 00:13:02,749] Trial 21 finished with value: 0.9054170809481125 and parameters: {'max_df': 0.8963038325408221, 'min_df': 3, 'max_ngram': 1, 'C': 2.2385705634518454, 'penalty': 'l2'}. Best is trial 12 with value: 0.9107937658707393.\n"
     ]
    },
    {
     "name": "stderr",
     "output_type": "stream",
     "text": [
      "Best trial: 12. Best value: 0.910794: 100%|██████████| 20/20 [04:49<00:00, 14.49s/it]"
     ]
    },
    {
     "name": "stdout",
     "output_type": "stream",
     "text": [
      "[I 2025-08-04 00:13:04,486] Trial 22 finished with value: 0.8952747155659078 and parameters: {'max_df': 0.9522601101120584, 'min_df': 5, 'max_ngram': 3, 'C': 15.31957617791939, 'penalty': 'l2'}. Best is trial 12 with value: 0.9107937658707393.\n",
      "✅ Best pipeline loaded from C:\\Projects\\twitter-airline-analysis\\artifacts\\trial_12_pipe.joblib\n"
     ]
    },
    {
     "name": "stderr",
     "output_type": "stream",
     "text": [
      "\n"
     ]
    }
   ],
   "source": [
    "study.optimize(objective, n_trials=20, show_progress_bar=True)\n",
    "\n",
    "best_path     = Path(study.best_trial.user_attrs[\"pipeline_path\"])\n",
    "best_pipeline = load(best_path)\n",
    "print(f\"✅ Best pipeline loaded from {best_path}\")"
   ]
  },
  {
   "cell_type": "markdown",
   "id": "21e335ec",
   "metadata": {},
   "source": [
    "## 4 -  Persist & reload the best model"
   ]
  },
  {
   "cell_type": "code",
   "execution_count": 7,
   "id": "73b2cddc",
   "metadata": {},
   "outputs": [
    {
     "name": "stdout",
     "output_type": "stream",
     "text": [
      "✅  Best pipeline located at C:\\Projects\\twitter-airline-analysis\\artifacts\\trial_12_pipe.joblib\n",
      "🔒  Saved tuned model → C:\\Projects\\twitter-airline-analysis\\models\\logreg_tfidf_optuna.joblib\n"
     ]
    }
   ],
   "source": [
    "# ╔══════════════════════════════════════════════════════════════╗\n",
    "# ║ 4 – Persist & reload the best model                          ║\n",
    "# ╚══════════════════════════════════════════════════════════════╝\n",
    "# 1. Locate the file written inside the objective\n",
    "best_path = Path(study.best_trial.user_attrs[\"pipeline_path\"])\n",
    "print(f\"✅  Best pipeline located at {best_path}\")\n",
    "\n",
    "# 2. Load it\n",
    "best_pipeline = load(best_path)\n",
    "\n",
    "# 3. Save a canonical copy in models/ for later notebooks\n",
    "TUNED_MODEL_PATH.parent.mkdir(exist_ok=True)\n",
    "dump(best_pipeline, TUNED_MODEL_PATH)\n",
    "print(f\"🔒  Saved tuned model → {TUNED_MODEL_PATH}\")\n",
    "\n",
    "# 4. (optional sanity check)\n",
    "assert hasattr(best_pipeline, \"predict_proba\")\n"
   ]
  },
  {
   "cell_type": "markdown",
   "id": "b9f4f1cc",
   "metadata": {},
   "source": [
    "## 5 - Final evaluation on the held‑out test set"
   ]
  },
  {
   "cell_type": "code",
   "execution_count": 12,
   "id": "5a9a58d1",
   "metadata": {},
   "outputs": [
    {
     "name": "stdout",
     "output_type": "stream",
     "text": [
      "              precision    recall  f1-score   support\n",
      "\n",
      "    negative      0.819     0.950     0.879       918\n",
      "     neutral      0.751     0.574     0.651       310\n",
      "    positive      0.821     0.564     0.668       236\n",
      "\n",
      "    accuracy                          0.808      1464\n",
      "   macro avg      0.797     0.696     0.733      1464\n",
      "weighted avg      0.805     0.808     0.797      1464\n",
      "\n",
      "Weighted OVR ROC‑AUC: 0.913\n"
     ]
    },
    {
     "data": {
      "image/png": "[encoded data removed]",
      "text/plain": [
       "<Figure size 600x500 with 1 Axes>"
      ]
     },
     "metadata": {},
     "output_type": "display_data"
    }
   ],
   "source": [
    "# ╔══════════════════════════════════════════════════════════════╗\n",
    "# ║ 5 – Final evaluation on the held‑out test set                ║\n",
    "# ╚══════════════════════════════════════════════════════════════╝\n",
    "# 1. Discrete predictions for class‑level metrics\n",
    "y_pred = best_pipeline.predict(X_test)         # → array of strings\n",
    "\n",
    "from sklearn.metrics import classification_report, roc_auc_score, RocCurveDisplay\n",
    "\n",
    "print(classification_report(y_test, y_pred, digits=3))\n",
    "\n",
    "# 2. Probabilities for ROC‑AUC\n",
    "probs = best_pipeline.predict_proba(X_test)    # shape (n_samples, 3)\n",
    "\n",
    "auc  = roc_auc_score(\n",
    "    y_test,\n",
    "    probs,\n",
    "    multi_class=\"ovr\",\n",
    "    average=\"weighted\",\n",
    ")\n",
    "print(f\"Weighted OVR ROC‑AUC: {auc:.3f}\")\n",
    "\n",
    "# 3. Plot ROC curve\n",
    "import matplotlib.pyplot as plt\n",
    "from sklearn.preprocessing import label_binarize\n",
    "from sklearn.metrics import RocCurveDisplay\n",
    "\n",
    "fig, ax = plt.subplots(figsize=(6, 5))\n",
    "\n",
    "classes = best_pipeline.classes_           # ['negative', 'neutral', 'positive']\n",
    "y_bin   = label_binarize(y_test, classes=classes)  # shape (n_samples, 3)\n",
    "\n",
    "for i, cls in enumerate(classes):\n",
    "    RocCurveDisplay.from_predictions(\n",
    "        y_bin[:, i],\n",
    "        probs[:, i],\n",
    "        name=cls,\n",
    "        ax=ax,\n",
    "    )\n",
    "\n",
    "ax.set_title(\"One‑vs‑rest ROC curves\")\n",
    "plt.show()\n",
    "\n"
   ]
  },
  {
   "cell_type": "markdown",
   "id": "2b44ef46",
   "metadata": {},
   "source": [
    "## 6 - Persist artefacts"
   ]
  }
 ],
 "metadata": {
  "kernelspec": {
   "display_name": "twitter-sentiment-env",
   "language": "python",
   "name": "python3"
  },
  "language_info": {
   "codemirror_mode": {
    "name": "ipython",
    "version": 3
   },
   "file_extension": ".py",
   "mimetype": "text/x-python",
   "name": "python",
   "nbconvert_exporter": "python",
   "pygments_lexer": "ipython3",
   "version": "3.11.9"
  }
 },
 "nbformat": 4,
 "nbformat_minor": 5
}
